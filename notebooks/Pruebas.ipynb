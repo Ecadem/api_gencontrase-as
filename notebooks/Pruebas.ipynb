{
 "cells": [
  {
   "cell_type": "markdown",
   "id": "6ee8648d",
   "metadata": {},
   "source": [
    "# API Generador de Contraseñas"
   ]
  },
  {
   "cell_type": "markdown",
   "id": "b83e107a",
   "metadata": {},
   "source": [
    "#### Este notebook será usado para las pruebas del proyecto API generador de contraseñas"
   ]
  },
  {
   "cell_type": "code",
   "execution_count": 1,
   "id": "7b7f07e3",
   "metadata": {},
   "outputs": [],
   "source": [
    "import random"
   ]
  },
  {
   "cell_type": "code",
   "execution_count": 845,
   "id": "fa956ed5",
   "metadata": {},
   "outputs": [],
   "source": [
    "char_dict = {\n",
    "    \"a\": [\"a\", \"4\", \"@\"],\n",
    "    \"e\": [\"e\", \"3\"],\n",
    "    \"i\": [\"i\", \"!\", \"¡\"],\n",
    "    \"o\": [\"o\", \"0\"],\n",
    "    \"u\": [\"u\"],\n",
    "    \"te\": [\"T\"],\n",
    "    \"se\": [\"C\"],\n",
    "    \"ve\": [\"B\"],\n",
    "    \"be\": [\"B\"],\n",
    "    \"de\": [\"D\"],\n",
    "    \"tres\": [\"3\"],\n",
    "    \"dos\": [\"2\"],\n",
    "    \"cien\": [\"100\"],\n",
    "    \"sien\": [\"100\"]\n",
    "}"
   ]
  },
  {
   "cell_type": "code",
   "execution_count": 846,
   "id": "2822d91e",
   "metadata": {},
   "outputs": [],
   "source": [
    "def pwd_str(pwd, char_dict, g):\n",
    "    i = 0\n",
    "    str_pass = \"\"\n",
    "    while len(pwd[i: i+g]) == g:\n",
    "        char = pwd[i: i+g]\n",
    "        try: \n",
    "            char_cho = random.choice(char_dict[char])\n",
    "            jump = len(char)\n",
    "        except: \n",
    "            char_cho = char\n",
    "            jump = len(char_cho)\n",
    "        \n",
    "        str_pass = str_pass + char_cho\n",
    "        i+=jump\n",
    "    \n",
    "    str_pass = str_pass + pwd[i: i+g]\n",
    "    str_pass = str_pass.replace(\" \", \"\")\n",
    "    return str_pass\n",
    "\n",
    "def gen_password(pwd, char_dict, g, lim = 3):\n",
    "    if g <= lim:\n",
    "        new_pass = gen_password(\n",
    "            pwd_str(pwd, char_dict, g + 1),\n",
    "            char_dict,\n",
    "            g + 1\n",
    "        )\n",
    "        return new_pass\n",
    "    else:\n",
    "        return pwd"
   ]
  },
  {
   "cell_type": "code",
   "execution_count": 881,
   "id": "396348c4",
   "metadata": {},
   "outputs": [],
   "source": [
    "pwd = \"son las mismas de ciempre\""
   ]
  },
  {
   "cell_type": "code",
   "execution_count": 882,
   "id": "3ef5d2ed",
   "metadata": {},
   "outputs": [],
   "source": [
    "results = [ gen_password(pwd, char_dict, 0) for _ in range(100) ] \n",
    "results = list(dict.fromkeys(results))"
   ]
  },
  {
   "cell_type": "code",
   "execution_count": 883,
   "id": "c20b156b",
   "metadata": {},
   "outputs": [
    {
     "data": {
      "text/plain": [
       "99"
      ]
     },
     "execution_count": 883,
     "metadata": {},
     "output_type": "execute_result"
    }
   ],
   "source": [
    "len(results)"
   ]
  },
  {
   "cell_type": "code",
   "execution_count": 884,
   "id": "7ad9a739",
   "metadata": {},
   "outputs": [
    {
     "data": {
      "text/plain": [
       "['sonl4smismasDc!3mpr3',\n",
       " 's0nl4sm!smasDc!empre',\n",
       " 'sonl4sm¡smasd3c!3mpre',\n",
       " 's0nl@sm!sm@sd3c¡empr3',\n",
       " 's0nl@smismasd3c!3mpr3',\n",
       " 's0nlasmism4sDci3mpre',\n",
       " 'sonlasm¡sm4sDciempre',\n",
       " 's0nlasm¡smasd3c!empr3',\n",
       " 'sonl4sm!smasd3ci3mpre',\n",
       " 'sonl@sm¡sm@sDci3mpr3',\n",
       " 's0nlasm¡smasDciempr3',\n",
       " 's0nlasm¡sm4sDciempre',\n",
       " 'sonlasm¡sm4sDc¡empr3',\n",
       " 'sonl4sm!smasDciempre',\n",
       " 's0nl@smism@sd3c!empr3',\n",
       " 'sonl@sm¡sm@sd3c!empre',\n",
       " 'sonl@sm!sm@sDc¡empre',\n",
       " 's0nlasmism@sd3ciempre',\n",
       " 's0nl4sm!sm@sd3c¡empr3',\n",
       " 'sonlasm!smasDc¡empre',\n",
       " 'sonl4sm!sm@sDc!3mpr3',\n",
       " 's0nl@sm¡sm4sDc¡empr3',\n",
       " 'sonl@sm!sm4sd3c¡empr3',\n",
       " 's0nl@smism@sDci3mpr3',\n",
       " 's0nlasm!sm@sd3c¡3mpre',\n",
       " 's0nlasmismasDc!3mpre',\n",
       " 's0nl@sm!sm4sd3ci3mpre',\n",
       " 's0nl@sm¡sm4sd3ciempr3',\n",
       " 'sonl@smism@sDci3mpr3',\n",
       " 'sonlasmism4sd3c!empr3',\n",
       " 's0nl4sm¡smasd3c!3mpre',\n",
       " 's0nl4smism4sDc¡empr3',\n",
       " 's0nlasm!sm@sd3c!3mpr3',\n",
       " 's0nlasm¡smasd3c!3mpr3',\n",
       " 's0nl4smismasd3ci3mpre',\n",
       " 's0nl@sm¡smasd3c!3mpr3',\n",
       " 'sonlasmism4sDc!3mpre',\n",
       " 's0nl@sm!sm4sd3ci3mpr3',\n",
       " 's0nl@sm!smasDc¡3mpre',\n",
       " 's0nl4smismasDc!empre',\n",
       " 's0nl4sm¡smasd3c!empre',\n",
       " 's0nl@smismasd3ci3mpre',\n",
       " 'sonl4sm¡sm4sDci3mpr3',\n",
       " 'sonl@smismasd3ciempre',\n",
       " 'sonlasm¡sm@sDci3mpre',\n",
       " 's0nl4smism@sDciempr3',\n",
       " 's0nl@smismasd3ciempre',\n",
       " 's0nlasmism@sDc!3mpre',\n",
       " 's0nlasm¡sm@sd3c¡empre',\n",
       " 's0nlasmismasd3c!3mpre',\n",
       " 'sonlasm¡sm@sd3c¡3mpre',\n",
       " 'sonl@sm¡sm4sDc!3mpr3',\n",
       " 'sonlasmism@sDci3mpre',\n",
       " 's0nl@sm¡sm@sd3c!empr3',\n",
       " 'sonl4sm!sm4sDci3mpre',\n",
       " 's0nlasm!sm@sDci3mpre',\n",
       " 'sonl4sm¡sm4sd3ci3mpr3',\n",
       " 's0nl@sm¡sm@sDci3mpr3',\n",
       " 's0nlasm¡smasd3ci3mpr3',\n",
       " 's0nlasm¡sm@sd3c!3mpre',\n",
       " 's0nlasmism4sd3ci3mpr3',\n",
       " 'sonlasm!sm4sd3ciempr3',\n",
       " 's0nlasm¡smasd3c!empre',\n",
       " 'sonl4sm!smasd3c¡empr3',\n",
       " 'sonl4sm¡sm@sd3c¡empre',\n",
       " 's0nlasm!sm@sDciempr3',\n",
       " 's0nl@smism@sd3ciempre',\n",
       " 'sonl4sm¡sm4sd3c!empre',\n",
       " 's0nl@smismasd3c!empr3',\n",
       " 'sonl4sm¡smasDc¡3mpre',\n",
       " 's0nlasm¡sm4sd3c¡3mpr3',\n",
       " 's0nlasmism4sDc¡3mpr3',\n",
       " 'sonlasm!smasd3c!3mpre',\n",
       " 's0nlasm¡sm4sd3ciempre',\n",
       " 'sonl4sm¡sm4sDc!3mpr3',\n",
       " 'sonl@sm¡sm@sDc¡3mpre',\n",
       " 'sonlasm!sm4sDc¡empr3',\n",
       " 'sonlasmismasd3c¡3mpre',\n",
       " 's0nlasm!sm4sDci3mpr3',\n",
       " 'sonl4smism@sDc!empr3',\n",
       " 'sonl@sm!sm@sDciempre',\n",
       " 's0nl4smism4sd3c¡empre',\n",
       " 's0nl@smism4sDc¡empr3',\n",
       " 'sonlasm¡sm@sDciempre',\n",
       " 'sonlasmism@sd3ci3mpre',\n",
       " 's0nl@sm!sm@sd3ci3mpr3',\n",
       " 'sonlasmism4sDci3mpre',\n",
       " 'sonl@sm¡sm4sDciempre',\n",
       " 'sonl4smism4sDci3mpre',\n",
       " 's0nlasm¡sm@sDc¡3mpre',\n",
       " 'sonlasm!smasDc¡3mpre',\n",
       " 'sonlasmism@sd3c!empr3',\n",
       " 's0nlasm¡sm@sd3c!3mpr3',\n",
       " 'sonl@smism4sDc¡3mpre',\n",
       " 's0nl4sm¡sm@sd3ci3mpre',\n",
       " 's0nl4sm¡sm4sd3c¡empr3',\n",
       " 's0nlasmismasd3ciempre',\n",
       " 'sonlasm¡sm4sd3c!empre',\n",
       " 's0nl@sm!smasd3c¡3mpre']"
      ]
     },
     "execution_count": 884,
     "metadata": {},
     "output_type": "execute_result"
    }
   ],
   "source": [
    "results"
   ]
  },
  {
   "cell_type": "code",
   "execution_count": 885,
   "id": "7d8f36aa",
   "metadata": {},
   "outputs": [],
   "source": [
    "from hermetrics.levenshtein import Levenshtein\n",
    "lev = Levenshtein()"
   ]
  },
  {
   "cell_type": "code",
   "execution_count": 886,
   "id": "a3d1b7a4",
   "metadata": {},
   "outputs": [],
   "source": [
    "def tag_similarity(value):\n",
    "    if value < .25:\n",
    "        return \"recomendadas\"\n",
    "    elif .25 < value < .75:\n",
    "        return \"neutrales\"\n",
    "    else:\n",
    "        return \"similares\""
   ]
  },
  {
   "cell_type": "code",
   "execution_count": 887,
   "id": "fa2a1a57",
   "metadata": {},
   "outputs": [],
   "source": [
    "similarity = []\n",
    "\n",
    "suggestions = {\n",
    "    \"recomendada\": [],\n",
    "    \"neutrales\": [],\n",
    "    \"similares\": []\n",
    "}\n",
    "\n",
    "for sug_pass in results:\n",
    "    lev.similarity(\"son las mismas\", i)\n",
    "    "
   ]
  },
  {
   "cell_type": "code",
   "execution_count": 875,
   "id": "80498080",
   "metadata": {},
   "outputs": [
    {
     "data": {
      "text/plain": [
       "0.2857142857142857"
      ]
     },
     "execution_count": 875,
     "metadata": {},
     "output_type": "execute_result"
    }
   ],
   "source": [
    "min(similarity)"
   ]
  },
  {
   "cell_type": "code",
   "execution_count": 876,
   "id": "de689cb0",
   "metadata": {},
   "outputs": [],
   "source": [
    "import hermetrics"
   ]
  },
  {
   "cell_type": "code",
   "execution_count": 877,
   "id": "b4f4d3cc",
   "metadata": {},
   "outputs": [
    {
     "data": {
      "text/plain": [
       "'0.1.13'"
      ]
     },
     "execution_count": 877,
     "metadata": {},
     "output_type": "execute_result"
    }
   ],
   "source": [
    "hermetrics.__version__"
   ]
  },
  {
   "cell_type": "code",
   "execution_count": null,
   "id": "92e80231",
   "metadata": {},
   "outputs": [],
   "source": []
  }
 ],
 "metadata": {
  "kernelspec": {
   "display_name": "Python 3 (ipykernel)",
   "language": "python",
   "name": "python3"
  },
  "language_info": {
   "codemirror_mode": {
    "name": "ipython",
    "version": 3
   },
   "file_extension": ".py",
   "mimetype": "text/x-python",
   "name": "python",
   "nbconvert_exporter": "python",
   "pygments_lexer": "ipython3",
   "version": "3.9.10"
  }
 },
 "nbformat": 4,
 "nbformat_minor": 5
}
