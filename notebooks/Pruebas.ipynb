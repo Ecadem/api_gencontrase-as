{
 "cells": [
  {
   "cell_type": "markdown",
   "id": "6ee8648d",
   "metadata": {},
   "source": [
    "# \\<nombre_proyecto\\>"
   ]
  },
  {
   "cell_type": "markdown",
   "id": "b83e107a",
   "metadata": {},
   "source": [
    "#### Este notebook será usado para las pruebas del proyecto \\<nombre_proyecto\\>"
   ]
  },
  {
   "cell_type": "code",
   "execution_count": null,
   "id": "7b7f07e3",
   "metadata": {},
   "outputs": [],
   "source": []
  },
  {
   "cell_type": "code",
   "execution_count": null,
   "id": "fa956ed5",
   "metadata": {},
   "outputs": [],
   "source": []
  },
  {
   "cell_type": "code",
   "execution_count": null,
   "id": "77bba361",
   "metadata": {},
   "outputs": [],
   "source": []
  },
  {
   "cell_type": "code",
   "execution_count": null,
   "id": "b6dcb9f3",
   "metadata": {},
   "outputs": [],
   "source": []
  }
 ],
 "metadata": {
  "kernelspec": {
   "display_name": "Python 3 (ipykernel)",
   "language": "python",
   "name": "python3"
  },
  "language_info": {
   "codemirror_mode": {
    "name": "ipython",
    "version": 3
   },
   "file_extension": ".py",
   "mimetype": "text/x-python",
   "name": "python",
   "nbconvert_exporter": "python",
   "pygments_lexer": "ipython3",
   "version": "3.9.10"
  }
 },
 "nbformat": 4,
 "nbformat_minor": 5
}
